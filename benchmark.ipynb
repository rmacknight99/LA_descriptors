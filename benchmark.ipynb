{
 "cells": [
  {
   "cell_type": "code",
   "execution_count": 3,
   "metadata": {},
   "outputs": [],
   "source": [
    "from utils import *\n",
    "import pandas as pd"
   ]
  },
  {
   "cell_type": "code",
   "execution_count": 5,
   "metadata": {},
   "outputs": [
    {
     "name": "stdout",
     "output_type": "stream",
     "text": [
      "running PBE\n",
      "done PBE\n",
      "running PBE0\n",
      "done PBE0\n",
      "running B3LYP\n",
      "done B3LYP\n",
      "running M062X\n",
      "done M062X\n",
      "running M06L\n",
      "done M06L\n",
      "running wB97\n",
      "done wB97\n",
      "running wB97X\n",
      "done wB97X\n",
      "running DLPNO-CCSDT\n",
      "done DLPNO-CCSDT\n",
      "        method rmsd boron_trifluoride energies boron_trifluoride\n",
      "0          PBE                    0.0                -337.052101\n",
      "1         PBE0                    0.0                -361.099995\n",
      "2        M062X                    0.0                 -634.99673\n",
      "3         M06L                    0.0                -674.413905\n",
      "4        B3LYP                    0.0                -763.720458\n",
      "5         wB97                    0.0                -756.484296\n",
      "6        wB97X                    0.0                -725.379607\n",
      "7  DLPNO-CCSDT                    ref                        ref\n"
     ]
    }
   ],
   "source": [
    "dft_dict = {'HF': ade.OptKeywords(['HF', 'DEF2-TZVPP', 'DEF2-TZVPP/C', 'def2/J','RIJCOSX','CPCM']),\n",
    "                'RI-MP2': ade.OptKeywords(['RI-MP2', 'DEF2-TZVPP', 'DEF2-TZVPP/C', 'def2/J','RIJCOSX','CPCM']),\n",
    "                'BP': ade.OptKeywords(['BP', 'DEF2-TZVPP', 'DEF2-TZVPP/C', 'def2/J','RIJCOSX','CPCM']),\n",
    "                'PBEh-3c': ade.OptKeywords(['PBEh-3c', 'DEF2-TZVPP', 'DEF2-TZVPP/C', 'def2/J','RIJCOSX','CPCM']),\n",
    "                'B97': ade.OptKeywords(['B97', 'DEF2-TZVPP', 'DEF2-TZVPP/C', 'def2/J','RIJCOSX','CPCM']),\n",
    "                'BLYP': ade.OptKeywords(['BLYP', 'DEF2-TZVPP', 'DEF2-TZVPP/C', 'def2/J','RIJCOSX','CPCM']),\n",
    "                'PBE': ade.OptKeywords(['PBE', 'DEF2-TZVPP', 'DEF2-TZVPP/C', 'def2/J','RIJCOSX','CPCM', 'D4']),\n",
    "                'PBE0': ade.OptKeywords(['PBE0', 'DEF2-TZVPP', 'DEF2-TZVPP/C', 'def2/J','RIJCOSX','CPCM', 'D4']),\n",
    "                'B3LYP': ade.OptKeywords(['B3LYP', 'DEF2-TZVPP', 'DEF2-TZVPP/C', 'def2/J','RIJCOSX','CPCM', 'D4']),\n",
    "                'M062X': ade.OptKeywords(['M062X', 'DEF2-TZVPP', 'DEF2-TZVPP/C', 'def2/J','RIJCOSX','CPCM', 'D3zero']),\n",
    "                'M06L': ade.OptKeywords(['M06L', 'DEF2-TZVPP', 'DEF2-TZVPP/C', 'def2/J','RIJCOSX','CPCM', 'D3zero']),\n",
    "                'TPSSh': ade.OptKeywords(['TPSSh', 'DEF2-TZVPP', 'DEF2-TZVPP/C', 'def2/J','RIJCOSX','CPCM']),\n",
    "                'wB97': ade.OptKeywords(['wB97', 'DEF2-TZVPP', 'DEF2-TZVPP/C', 'def2/J','RIJCOSX','CPCM', 'D4']),\n",
    "                'wB97X': ade.OptKeywords(['wB97X', 'DEF2-TZVPP', 'DEF2-TZVPP/C', 'def2/J','RIJCOSX','CPCM', 'D4']),\n",
    "                'wB97X-V': ade.OptKeywords(['wB97X-V', 'DEF2-TZVPP', 'DEF2-TZVPP/C', 'def2/J','RIJCOSX','CPCM']),\n",
    "                'RI-B2PLYP': ade.OptKeywords(['RI-B2PLYP', 'DEF2-TZVPP', 'DEF2-TZVPP/C', 'def2/J','RIJCOSX','CPCM']),\n",
    "                'DLPNO-CCSDT': ade.OptKeywords(['DLPNO-CCSD(T)', 'DEF2-TZVPP', 'DEF2-TZVPP/C', 'def2/J','RIJCOSX', 'CPCM']),\n",
    "            }\n",
    "\n",
    "df = pd.DataFrame()\n",
    "methods=['PBE', 'PBE0', 'M062X', 'M06L', 'B3LYP', 'wB97', 'wB97X', 'DLPNO-CCSDT']\n",
    "\n",
    "df[\"method\"] = methods\n",
    "n_cores = 6\n",
    "solvent = \"Acetonitrile\"\n",
    "\n",
    "df = benchmark_DFT(ID_dict={\"name\": \"boron_trifluoride\", \"SMILES\": None}, \n",
    "                   dft_dict=dft_dict, \n",
    "                   methods=methods, \n",
    "                   solvent=solvent, \n",
    "                   df=df, \n",
    "                   n_cores=n_cores)\n",
    "#df = benchmark_DFT(ID_dict={\"name\": \"styrene_oxide\", \"SMILES\": \"C1C(O1)C2=CC=CC=C2\"},\n",
    "#                   dft_dict=dft_dict, \n",
    "#                   methods=methods, \n",
    "#                   solvent=solvent, \n",
    "#                   df=df, \n",
    "#                   n_cores=n_cores)\n",
    "#df = benchmark_DFT(ID={\"name\": \"aluminium_trichloride\", \"SMILES\": None}, \n",
    "                   #dft_dict=dft_dict, \n",
    "                   #methods=methods, \n",
    "                   #solvent=solvent, \n",
    "                   #df=df, \n",
    "                   #n_cores=n_cores)\n",
    "print(df)"
   ]
  },
  {
   "cell_type": "code",
   "execution_count": null,
   "metadata": {},
   "outputs": [],
   "source": []
  }
 ],
 "metadata": {
  "kernelspec": {
   "display_name": "Python 3.9.13 ('comp_chem')",
   "language": "python",
   "name": "python3"
  },
  "language_info": {
   "codemirror_mode": {
    "name": "ipython",
    "version": 3
   },
   "file_extension": ".py",
   "mimetype": "text/x-python",
   "name": "python",
   "nbconvert_exporter": "python",
   "pygments_lexer": "ipython3",
   "version": "3.9.13"
  },
  "orig_nbformat": 4,
  "vscode": {
   "interpreter": {
    "hash": "7bab832151355a5e842382f099643310f22df612f5f4d417316cada11054ed0a"
   }
  }
 },
 "nbformat": 4,
 "nbformat_minor": 2
}
